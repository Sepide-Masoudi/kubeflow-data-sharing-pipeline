{
 "cells": [
  {
   "metadata": {
    "collapsed": true,
    "ExecuteTime": {
     "end_time": "2025-03-16T15:57:50.360589Z",
     "start_time": "2025-03-16T15:57:50.330734Z"
    }
   },
   "cell_type": "code",
   "source": [
    "# Get list of pipelines\n",
    "\n",
    "from kfp import client\n",
    "def get_pipeline_list():\n",
    "    # Create a KFP client\n",
    "    kfp_client = client.Client()\n",
    "    \n",
    "    # List all pipelines\n",
    "    pipelines = kfp_client.list_pipelines()\n",
    "    if pipelines is None or pipelines.pipelines is None:\n",
    "        print(\"No pipeline found\")\n",
    "    else:   \n",
    "        for pipeline in pipelines.pipelines:\n",
    "            print(f\"ID: {pipeline.pipeline_id} ,Name: {pipeline.display_name}\")\n",
    "            #print(pipeline)\n",
    "\n",
    "###### Call the function to execute it           \n",
    "get_pipeline_list()           "
   ],
   "id": "initial_id",
   "outputs": [
    {
     "name": "stdout",
     "output_type": "stream",
     "text": [
      "ID: 69f39504-90b4-4efa-9cc2-e236435c6f6e ,Name: chain_shipments_anonymize_chain\n",
      "ID: c81c0821-a957-43b2-a1e1-430942a29702 ,Name: chain_shipments_data_chain\n"
     ]
    }
   ],
   "execution_count": 84
  },
  {
   "metadata": {
    "ExecuteTime": {
     "end_time": "2025-03-16T16:06:07.225115Z",
     "start_time": "2025-03-16T16:06:07.183726Z"
    }
   },
   "cell_type": "code",
   "source": [
    "# This function will return the list of all runs.\n",
    "\n",
    "from kfp import client\n",
    "\n",
    "def get_pipeline_run_info():\n",
    "    \n",
    "    kfp_client = client.Client()\n",
    "\n",
    "    runs = kfp_client.list_runs(page_size=5)\n",
    "    if runs is None or runs.runs is None:\n",
    "        print(\"No runs found\")\n",
    "    else:\n",
    "        for run in runs.runs:\n",
    "            print(f\"Pipeline Run ID: {run.run_id},  Name: {run.display_name}, Status: {run.state}\")\n",
    "\n",
    "###### Call the function to execute it\n",
    "get_pipeline_run_info()\n"
   ],
   "id": "5bbd6d9c30dfaf0a",
   "outputs": [
    {
     "name": "stdout",
     "output_type": "stream",
     "text": [
      "Pipeline Run ID: 3fd14c99-0833-4888-b698-631ba6ba299c,  Name: chain_shipments_anonymize_chain_run, Status: SUCCEEDED\n",
      "Pipeline Run ID: e7eddd8e-13fe-45bd-81ad-6e1f3a418ed4,  Name: chain_shipments_data_chain_run, Status: SUCCEEDED\n"
     ]
    }
   ],
   "execution_count": 89
  },
  {
   "metadata": {
    "ExecuteTime": {
     "end_time": "2025-03-14T19:20:08.150982Z",
     "start_time": "2025-03-14T19:20:08.130642Z"
    }
   },
   "cell_type": "code",
   "source": [
    "#fetch the version info of existing pipelines\n",
    "\n",
    "\n",
    "from kfp import client\n",
    "\n",
    "class PipelineVersionInfo:\n",
    "    def __init__(self, pipeline_name, version_name, version_pipeline_id):\n",
    "        self.pipeline_name = pipeline_name\n",
    "        self.version_name = version_name\n",
    "        self.version_pipeline_id = version_pipeline_id\n",
    "\n",
    "    def __repr__(self):\n",
    "        return f\"Pipeline Name: {self.pipeline_name}, Version Name: {self.version_name}, Version Pipeline ID: {self.version_pipeline_id}\"\n",
    "\n",
    "def fetch_pipelines_version_info():\n",
    "    kfp_client = client.Client()\n",
    "    \n",
    "    pipelines = kfp_client.list_pipelines()\n",
    "    result = []  # List to hold the PipelineVersionInfo objects\n",
    "    \n",
    "    if pipelines is None or pipelines.pipelines is None:\n",
    "        print(\"No pipelines found\")\n",
    "        return []\n",
    "    \n",
    "    else:\n",
    "        for pipeline in pipelines.pipelines:\n",
    "            pipeline_versions = kfp_client.list_pipeline_versions(pipeline_id=pipeline.pipeline_id)\n",
    "            for version in pipeline_versions.pipeline_versions:\n",
    "                # Create a PipelineVersionInfo object and add it to the result list\n",
    "                pipeline_info = PipelineVersionInfo(\n",
    "                    pipeline_name=pipeline.display_name,\n",
    "                    version_name=version.display_name,\n",
    "                    version_pipeline_id=version.pipeline_version_id\n",
    "                )\n",
    "                result.append(pipeline_info)\n",
    "    \n",
    "    return result\n",
    "\n",
    "##### Call the function to fetch versions info of the pipelines.\n",
    "pipeline_info = fetch_pipelines_version_info()\n",
    "print(pipeline_info)\n"
   ],
   "id": "1bc41521f4d414bb",
   "outputs": [
    {
     "name": "stdout",
     "output_type": "stream",
     "text": [
      "No pipelines found\n",
      "[]\n"
     ]
    }
   ],
   "execution_count": 54
  },
  {
   "metadata": {
    "ExecuteTime": {
     "end_time": "2025-03-14T19:20:08.189224Z",
     "start_time": "2025-03-14T19:20:08.157191Z"
    }
   },
   "cell_type": "code",
   "source": [
    "#create a running experiment from a specific pipeline\n",
    "\n",
    "def start_pipeline_experiment(pipeline_name:str,experiment_name:str,run_name:str,version_id:str):\n",
    "    from kfp import client\n",
    "    \n",
    "    kfp_client = client.Client()\n",
    "    #set up the Minio \n",
    "    MINIO_ENDPOINT = 'http://minio.kubeflow:9000'  # Update with your MinIO service endpoint\n",
    "    BUCKET_NAME = 'my-bucket'  # Replace with your desired bucket name\n",
    "    ACCESS_KEY = 'minio'  # Replace with your access key\n",
    "    SECRET_KEY = 'minio123'  # Replace with your secret key\n",
    "    DEFAULT_REGION ='us-east-1'\n",
    "    arguments = {}\n",
    "    \n",
    "    \n",
    "    pipelines = kfp_client.list_pipelines()\n",
    "    pipeline_id = None\n",
    "    for pipeline in pipelines.pipelines:\n",
    "        if pipeline.display_name == pipeline_name:\n",
    "            pipeline_id = pipeline.pipeline_id\n",
    "            print(f\"Pipeline ID: {pipeline_id}\")\n",
    "            break\n",
    "    \n",
    "    if pipeline_id is None:\n",
    "        raise ValueError(f\"Pipeline '{pipeline_name}' not found. Please check the pipeline name.\")\n",
    "    \n",
    "    # Check if the experiment already exists\n",
    "    experiments = kfp_client.list_experiments()\n",
    "    experiment_id = None\n",
    "    for experiment in experiments.experiments:\n",
    "        if experiment.display_name == experiment_name:\n",
    "            experiment_id = experiment.experiment_id\n",
    "            print(f\"Experiment ID: {experiment_id}\")\n",
    "            break\n",
    "    \n",
    "    # If the experiment doesn't exist, create a new one\n",
    "    if experiment_id is None:\n",
    "        experiment = kfp_client.create_experiment(name=experiment_name)\n",
    "        experiment_id = experiment.experiment_id\n",
    "        print(f\"New Experiment ID: {experiment_id}\")\n",
    "        \n",
    "    try:\n",
    "        #Run the pipeline using the pipeline ID and experiment\n",
    "        run = kfp_client.run_pipeline(\n",
    "            experiment_id=experiment_id,\n",
    "            job_name=run_name,\n",
    "            pipeline_id=pipeline_id,\n",
    "            params=arguments,\n",
    "            version_id=version_id\n",
    "        )\n",
    "        \n",
    "        print(f\"Run submitted. Run ID: {run.run_id}\")\n",
    "        return {\n",
    "            \"pipeline_id\": pipeline_id,\n",
    "            \"experiment_id\": experiment_id,\n",
    "            \"run_id\": run.run_id\n",
    "        }\n",
    "    except Exception as e:\n",
    "        print(f\"Error occurred for Pipeline '{pipeline_name}', Version ID '{version_id}': {e}\")\n",
    "        return None\n",
    "    \n",
    "    \n",
    "##### Call the function to start an experiments for the pipeline.\n",
    "start_pipeline_experiment(\"chain_shipments_anonymize_chain\", \"chain_shipments_anonymize_chain_exp\",\"chain_shipments_anonymize_chain_run\", \"6a58e79b-0a5f-4757-bb2c-453288993103\")\n"
   ],
   "id": "eb448cfd98b39199",
   "outputs": [
    {
     "ename": "TypeError",
     "evalue": "'NoneType' object is not iterable",
     "output_type": "error",
     "traceback": [
      "\u001B[0;31m---------------------------------------------------------------------------\u001B[0m",
      "\u001B[0;31mTypeError\u001B[0m                                 Traceback (most recent call last)",
      "Cell \u001B[0;32mIn[55], line 64\u001B[0m\n\u001B[1;32m     60\u001B[0m         \u001B[38;5;28;01mreturn\u001B[39;00m \u001B[38;5;28;01mNone\u001B[39;00m\n\u001B[1;32m     63\u001B[0m \u001B[38;5;66;03m##### Call the function to start an experiments for the pipeline.\u001B[39;00m\n\u001B[0;32m---> 64\u001B[0m start_pipeline_experiment(\u001B[38;5;124m\"\u001B[39m\u001B[38;5;124mchain_shipments_anonymize_chain\u001B[39m\u001B[38;5;124m\"\u001B[39m, \u001B[38;5;124m\"\u001B[39m\u001B[38;5;124mchain_shipments_anonymize_chain_exp\u001B[39m\u001B[38;5;124m\"\u001B[39m,\u001B[38;5;124m\"\u001B[39m\u001B[38;5;124mchain_shipments_anonymize_chain_run\u001B[39m\u001B[38;5;124m\"\u001B[39m, \u001B[38;5;124m\"\u001B[39m\u001B[38;5;124m6a58e79b-0a5f-4757-bb2c-453288993103\u001B[39m\u001B[38;5;124m\"\u001B[39m)\n",
      "Cell \u001B[0;32mIn[55], line 18\u001B[0m, in \u001B[0;36mstart_pipeline_experiment\u001B[0;34m(pipeline_name, experiment_name, run_name, version_id)\u001B[0m\n\u001B[1;32m     16\u001B[0m pipelines \u001B[38;5;241m=\u001B[39m kfp_client\u001B[38;5;241m.\u001B[39mlist_pipelines()\n\u001B[1;32m     17\u001B[0m pipeline_id \u001B[38;5;241m=\u001B[39m \u001B[38;5;28;01mNone\u001B[39;00m\n\u001B[0;32m---> 18\u001B[0m \u001B[38;5;28;01mfor\u001B[39;00m pipeline \u001B[38;5;129;01min\u001B[39;00m pipelines\u001B[38;5;241m.\u001B[39mpipelines:\n\u001B[1;32m     19\u001B[0m     \u001B[38;5;28;01mif\u001B[39;00m pipeline\u001B[38;5;241m.\u001B[39mdisplay_name \u001B[38;5;241m==\u001B[39m pipeline_name:\n\u001B[1;32m     20\u001B[0m         pipeline_id \u001B[38;5;241m=\u001B[39m pipeline\u001B[38;5;241m.\u001B[39mpipeline_id\n",
      "\u001B[0;31mTypeError\u001B[0m: 'NoneType' object is not iterable"
     ]
    }
   ],
   "execution_count": 55
  },
  {
   "metadata": {
    "ExecuteTime": {
     "end_time": "2025-03-16T15:51:35.818540Z",
     "start_time": "2025-03-16T15:51:35.734557Z"
    }
   },
   "cell_type": "code",
   "source": [
    "# Delete all pipelines and its versions\n",
    "\n",
    "from kfp import Client\n",
    "\n",
    "def delete_pipelines():\n",
    "    kfp_client = Client()\n",
    "    \n",
    "    pipelines = kfp_client.list_pipelines()\n",
    "    \n",
    "    for pipeline in pipelines.pipelines:\n",
    "        # Get all versions of the pipeline and delete versions.\n",
    "        versions = kfp_client.list_pipeline_versions(pipeline_id=pipeline.pipeline_id)\n",
    "        \n",
    "        for version in versions.pipeline_versions:\n",
    "            kfp_client.delete_pipeline_version(pipeline.pipeline_id,version.pipeline_version_id)\n",
    "            print(f\"Deleted version: {version.display_name} (ID: {version.pipeline_version_id}) of pipeline: {pipeline.display_name}\")\n",
    "        \n",
    "        # Now delete the pipeline itself\n",
    "        kfp_client.delete_pipeline(pipeline.pipeline_id)\n",
    "        print(f\"Deleted pipeline: {pipeline.display_name} (ID: {pipeline.pipeline_id})\")\n",
    "        \n",
    "##### Call the function to delete all the pipelines and their versions.\n",
    "delete_pipelines()\n"
   ],
   "id": "85d44b77b5640158",
   "outputs": [
    {
     "name": "stdout",
     "output_type": "stream",
     "text": [
      "Deleted version: chain_shipments_data_chain (ID: 5aa43f28-8a16-4dd7-9d15-bda2ebcfb151) of pipeline: chain_shipments_data_chain\n",
      "Deleted pipeline: chain_shipments_data_chain (ID: 33c232a1-4e84-4ae0-a3ce-6f4200194192)\n",
      "Deleted version: chain_shipments_anonymize_chain (ID: 0773dd77-c618-4af5-97cb-5cc8dd50849b) of pipeline: chain_shipments_anonymize_chain\n",
      "Deleted pipeline: chain_shipments_anonymize_chain (ID: 4035e940-65b8-4a09-a8ea-a75113de4e73)\n"
     ]
    }
   ],
   "execution_count": 79
  },
  {
   "metadata": {
    "ExecuteTime": {
     "end_time": "2025-03-16T15:51:38.768944Z",
     "start_time": "2025-03-16T15:51:38.614752Z"
    }
   },
   "cell_type": "code",
   "source": [
    "# Delete All the experiments that their runs which are in the state ['CANCELED', 'FAILED', 'SKIPPED','SUCCEEDED']\n",
    "\n",
    "import kfp\n",
    "\n",
    "def delete_completed_experiments():\n",
    "    client = kfp.Client()\n",
    "    \n",
    "    # List all experiments\n",
    "    experiments = client.list_experiments()\n",
    "    \n",
    "    # Iterate over all experiments\n",
    "    if experiments is not None or experiments.experiments is not None:\n",
    "        for experiment in experiments.experiments:\n",
    "            print(f\"Checking Experiment: {experiment.display_name} (ID: {experiment.experiment_id})\")\n",
    "            \n",
    "            # List all runs for the current experiment\n",
    "            runs = client.list_runs(experiment_id=experiment.experiment_id)\n",
    "            \n",
    "            all_runs_completed = True  # Flag to track if all runs are completed\n",
    "            \n",
    "            if runs and runs.runs:\n",
    "                for run in runs.runs:\n",
    "                    print(f\"  Run Name: {run.display_name}, Run ID: {run.run_id}\")\n",
    "                    \n",
    "                    # Check if the run status\n",
    "                    if run.state not in ['CANCELED', 'FAILED', 'SKIPPED','SUCCEEDED','ERROR']:\n",
    "                        print(f\"  Run {run.display_name} is not completed. Skipping deletion of this experiment.\")\n",
    "                        all_runs_completed = False\n",
    "                        break\n",
    "            \n",
    "            # If all runs are completed, delete the experiment and its runs\n",
    "            if all_runs_completed:\n",
    "                print(f\"  All runs for experiment {experiment.display_name} are completed. Deleting runs and experiment.\")\n",
    "                \n",
    "                # Delete all runs for this experiment\n",
    "                if runs and runs.runs:\n",
    "                    for run in runs.runs:\n",
    "                        print(f\"    Deleting run: {run.display_name}\")\n",
    "                        client.delete_run(run_id=run.run_id)\n",
    "                    \n",
    "                    # Delete the experiment\n",
    "                    client.delete_experiment(experiment_id=experiment.experiment_id)\n",
    "                    print(f\"    Experiment {experiment.display_name} deleted.\")\n",
    "            else:\n",
    "                print(f\"  Skipping deletion of experiment {experiment.display_name} as some runs are still in progress.\")\n",
    "        \n",
    "    print(\"Completed cleanup of experiments.\")\n",
    "\n",
    "##### Call the function to delete all the pipelines and their versions.    \n",
    "delete_completed_experiments()   \n"
   ],
   "id": "191ba77562d38929",
   "outputs": [
    {
     "name": "stdout",
     "output_type": "stream",
     "text": [
      "Checking Experiment: Default (ID: b9a875a8-fb4f-4974-9be5-e1a547aaedf6)\n",
      "  All runs for experiment Default are completed. Deleting runs and experiment.\n",
      "Checking Experiment: pipeline_employee_data_experiment (ID: fa55e32b-423d-447b-b81f-fc8734bf21ee)\n",
      "  All runs for experiment pipeline_employee_data_experiment are completed. Deleting runs and experiment.\n",
      "Checking Experiment: chain_shipments_anonymize_chain_experiment (ID: 22e690e1-b383-4485-8c05-d11049427cd0)\n",
      "  Run Name: chain_shipments_anonymize_chain_run, Run ID: a6779a02-4ce3-4e98-82a5-6ade8d31c4b4\n",
      "  All runs for experiment chain_shipments_anonymize_chain_experiment are completed. Deleting runs and experiment.\n",
      "    Deleting run: chain_shipments_anonymize_chain_run\n",
      "    Experiment chain_shipments_anonymize_chain_experiment deleted.\n",
      "Checking Experiment: chain_shipments_data_chain_experiment (ID: 3da6142d-e53d-4c43-82e8-a3fe9aeed053)\n",
      "  Run Name: chain_shipments_data_chain_run, Run ID: b3d0302a-78ef-4279-bb55-46b6ec762fba\n",
      "  All runs for experiment chain_shipments_data_chain_experiment are completed. Deleting runs and experiment.\n",
      "    Deleting run: chain_shipments_data_chain_run\n",
      "    Experiment chain_shipments_data_chain_experiment deleted.\n",
      "Completed cleanup of experiments.\n"
     ]
    }
   ],
   "execution_count": 80
  },
  {
   "metadata": {
    "ExecuteTime": {
     "end_time": "2025-03-16T15:57:43.725023Z",
     "start_time": "2025-03-16T15:57:43.478414Z"
    }
   },
   "cell_type": "code",
   "source": [
    "# main function for running a round of  experiments\n",
    "\n",
    "def main ():\n",
    "    \n",
    "   # Deleting the experiments from the last round\n",
    "   delete_completed_experiments()\n",
    "   \n",
    "   # Generating the new round of experiments for available pipelines \n",
    "   pipeline_version_info= fetch_pipelines_version_info() \n",
    "   if len(pipeline_version_info) == 0:\n",
    "       print(\"No pipelines found\")\n",
    "   else:\n",
    "      print(f\"Pipeline version {len(pipeline_version_info)}\")\n",
    "      for pipeline_version in pipeline_version_info:\n",
    "          print(pipeline_version)\n",
    "          experiment_name = pipeline_version.pipeline_name + \"_experiment\"\n",
    "          run_name = pipeline_version.pipeline_name + \"_run\"\n",
    "          result = start_pipeline_experiment(pipeline_version.pipeline_name, experiment_name, run_name, pipeline_version.version_pipeline_id)\n",
    "          if result:\n",
    "            print(f\"Pipeline ID: {result['pipeline_id']} , Experiment ID: {result['experiment_id']} , Run ID: {result['run_id']}\")\n",
    "          else:\n",
    "            print(f\"Failed to start pipeline for: {pipeline_version.pipeline_name}\")\n",
    "                 \n",
    "\n",
    "main()"
   ],
   "id": "fe26054fa5a0e3ce",
   "outputs": [
    {
     "name": "stdout",
     "output_type": "stream",
     "text": [
      "Checking Experiment: Default (ID: b9a875a8-fb4f-4974-9be5-e1a547aaedf6)\n",
      "  All runs for experiment Default are completed. Deleting runs and experiment.\n",
      "Checking Experiment: pipeline_employee_data_experiment (ID: fa55e32b-423d-447b-b81f-fc8734bf21ee)\n",
      "  All runs for experiment pipeline_employee_data_experiment are completed. Deleting runs and experiment.\n",
      "Completed cleanup of experiments.\n",
      "Pipeline version 2\n",
      "Pipeline Name: chain_shipments_anonymize_chain, Version Name: chain_shipments_anonymize_chain, Version Pipeline ID: 78e9afe7-0c79-4cae-94ad-4858d3c23805\n",
      "Pipeline ID: 69f39504-90b4-4efa-9cc2-e236435c6f6e\n"
     ]
    },
    {
     "data": {
      "text/plain": [
       "<IPython.core.display.HTML object>"
      ],
      "text/html": [
       "<a href=\"/pipeline/#/experiments/details/287a7584-66bb-4a10-8125-a788304be329\" target=\"_blank\" >Experiment details</a>."
      ]
     },
     "metadata": {},
     "output_type": "display_data"
    },
    {
     "name": "stdout",
     "output_type": "stream",
     "text": [
      "New Experiment ID: 287a7584-66bb-4a10-8125-a788304be329\n"
     ]
    },
    {
     "data": {
      "text/plain": [
       "<IPython.core.display.HTML object>"
      ],
      "text/html": [
       "<a href=\"/pipeline/#/runs/details/3fd14c99-0833-4888-b698-631ba6ba299c\" target=\"_blank\" >Run details</a>."
      ]
     },
     "metadata": {},
     "output_type": "display_data"
    },
    {
     "name": "stdout",
     "output_type": "stream",
     "text": [
      "Run submitted. Run ID: 3fd14c99-0833-4888-b698-631ba6ba299c\n",
      "Pipeline ID: 69f39504-90b4-4efa-9cc2-e236435c6f6e , Experiment ID: 287a7584-66bb-4a10-8125-a788304be329 , Run ID: 3fd14c99-0833-4888-b698-631ba6ba299c\n",
      "Pipeline Name: chain_shipments_data_chain, Version Name: chain_shipments_data_chain, Version Pipeline ID: 7035cc69-70b8-4f7f-b5df-9cd88a2d6a01\n",
      "Pipeline ID: c81c0821-a957-43b2-a1e1-430942a29702\n"
     ]
    },
    {
     "data": {
      "text/plain": [
       "<IPython.core.display.HTML object>"
      ],
      "text/html": [
       "<a href=\"/pipeline/#/experiments/details/379766b9-9b03-435c-901c-8977ca4c784a\" target=\"_blank\" >Experiment details</a>."
      ]
     },
     "metadata": {},
     "output_type": "display_data"
    },
    {
     "name": "stdout",
     "output_type": "stream",
     "text": [
      "New Experiment ID: 379766b9-9b03-435c-901c-8977ca4c784a\n"
     ]
    },
    {
     "data": {
      "text/plain": [
       "<IPython.core.display.HTML object>"
      ],
      "text/html": [
       "<a href=\"/pipeline/#/runs/details/e7eddd8e-13fe-45bd-81ad-6e1f3a418ed4\" target=\"_blank\" >Run details</a>."
      ]
     },
     "metadata": {},
     "output_type": "display_data"
    },
    {
     "name": "stdout",
     "output_type": "stream",
     "text": [
      "Run submitted. Run ID: e7eddd8e-13fe-45bd-81ad-6e1f3a418ed4\n",
      "Pipeline ID: c81c0821-a957-43b2-a1e1-430942a29702 , Experiment ID: 379766b9-9b03-435c-901c-8977ca4c784a , Run ID: e7eddd8e-13fe-45bd-81ad-6e1f3a418ed4\n"
     ]
    }
   ],
   "execution_count": 83
  }
 ],
 "metadata": {
  "kernelspec": {
   "display_name": "Python 3",
   "language": "python",
   "name": "python3"
  },
  "language_info": {
   "codemirror_mode": {
    "name": "ipython",
    "version": 2
   },
   "file_extension": ".py",
   "mimetype": "text/x-python",
   "name": "python",
   "nbconvert_exporter": "python",
   "pygments_lexer": "ipython2",
   "version": "2.7.6"
  }
 },
 "nbformat": 4,
 "nbformat_minor": 5
}
