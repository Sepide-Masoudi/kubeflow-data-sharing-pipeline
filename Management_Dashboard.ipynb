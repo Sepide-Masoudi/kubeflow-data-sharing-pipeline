{
 "cells": [
  {
   "metadata": {
    "ExecuteTime": {
     "end_time": "2024-12-13T14:15:59.374127Z",
     "start_time": "2024-12-13T14:15:59.292036Z"
    }
   },
   "cell_type": "code",
   "source": [
    "#Get pipeline run  info\n",
    "from kfp import client\n",
    "\n",
    "# Create a KFP client\n",
    "kfp_client = client.Client()\n",
    "\n",
    "# List all runs (you can specify the number of runs)\n",
    "runs = kfp_client.list_runs(page_size=5)\n",
    "if runs is None or runs.runs is None:\n",
    "    print(\"No runs found\")\n",
    "# Print the ID and details of each run\n",
    "else:\n",
    "    for run in runs.runs:\n",
    "        print(f\"Pipeline Run ID: {run.run_id},  Name: {run.display_name}, Status: {run.state}\")\n"
   ],
   "id": "5bbd6d9c30dfaf0a",
   "outputs": [
    {
     "name": "stdout",
     "output_type": "stream",
     "text": [
      "Pipeline Run ID: 76e9de7d-9acb-40c5-acff-c6435aead7e2,  Name: chain_shipments_anonymize_chain_run, Status: SUCCEEDED\n",
      "Pipeline Run ID: 71ee997c-08f4-4731-a935-b14bcef8a9d7,  Name: chain_shipments_data_chain_run, Status: SUCCEEDED\n"
     ]
    }
   ],
   "execution_count": 8
  },
  {
   "metadata": {
    "ExecuteTime": {
     "end_time": "2024-11-01T13:01:02.779592Z",
     "start_time": "2024-11-01T13:01:02.687014Z"
    }
   },
   "cell_type": "code",
   "outputs": [
    {
     "ename": "ApiException",
     "evalue": "(404)\nReason: Not Found\nHTTP response headers: HTTPHeaderDict({'Audit-Id': '11d78cd7-dbb2-4ccf-94eb-2a98d751218a', 'Cache-Control': 'no-cache, private', 'Content-Length': '623', 'Content-Type': 'application/json', 'Date': 'Fri, 01 Nov 2024 13:01:02 GMT'})\nHTTP response body: {\"error\":\"Failed to delete pipeline \\u003cyour_pipeline_id\\u003e. Check error stack: Failed to delete pipeline with id \\u003cyour_pipeline_id\\u003e as it was not found: ResourceNotFoundError: Pipeline \\u003cyour_pipeline_id\\u003e not found\",\"code\":5,\"message\":\"Failed to delete pipeline \\u003cyour_pipeline_id\\u003e. Check error stack: Failed to delete pipeline with id \\u003cyour_pipeline_id\\u003e as it was not found: ResourceNotFoundError: Pipeline \\u003cyour_pipeline_id\\u003e not found\",\"details\":[{\"@type\":\"type.googleapis.com/google.rpc.Status\",\"code\":5,\"message\":\"Pipeline \\u003cyour_pipeline_id\\u003e not found\"}]}\n",
     "output_type": "error",
     "traceback": [
      "\u001B[0;31m---------------------------------------------------------------------------\u001B[0m",
      "\u001B[0;31mApiException\u001B[0m                              Traceback (most recent call last)",
      "Cell \u001B[0;32mIn[131], line 12\u001B[0m\n\u001B[1;32m      9\u001B[0m pipeline_id \u001B[38;5;241m=\u001B[39m \u001B[38;5;124m'\u001B[39m\u001B[38;5;124m<your_pipeline_id>\u001B[39m\u001B[38;5;124m'\u001B[39m\n\u001B[1;32m     11\u001B[0m \u001B[38;5;66;03m# Delete the pipeline\u001B[39;00m\n\u001B[0;32m---> 12\u001B[0m kfp_client\u001B[38;5;241m.\u001B[39mdelete_pipeline(pipeline_id)\n\u001B[1;32m     14\u001B[0m \u001B[38;5;28mprint\u001B[39m(\u001B[38;5;124mf\u001B[39m\u001B[38;5;124m\"\u001B[39m\u001B[38;5;124mPipeline with ID \u001B[39m\u001B[38;5;124m'\u001B[39m\u001B[38;5;132;01m{\u001B[39;00mpipeline_id\u001B[38;5;132;01m}\u001B[39;00m\u001B[38;5;124m'\u001B[39m\u001B[38;5;124m has been deleted.\u001B[39m\u001B[38;5;124m\"\u001B[39m)\n",
      "File \u001B[0;32m~/miniconda3/lib/python3.12/site-packages/kfp/client/client.py:1499\u001B[0m, in \u001B[0;36mClient.delete_pipeline\u001B[0;34m(self, pipeline_id)\u001B[0m\n\u001B[1;32m   1490\u001B[0m \u001B[38;5;28;01mdef\u001B[39;00m \u001B[38;5;21mdelete_pipeline\u001B[39m(\u001B[38;5;28mself\u001B[39m, pipeline_id: \u001B[38;5;28mstr\u001B[39m) \u001B[38;5;241m-\u001B[39m\u001B[38;5;241m>\u001B[39m \u001B[38;5;28mdict\u001B[39m:\n\u001B[1;32m   1491\u001B[0m \u001B[38;5;250m    \u001B[39m\u001B[38;5;124;03m\"\"\"Deletes a pipeline.\u001B[39;00m\n\u001B[1;32m   1492\u001B[0m \n\u001B[1;32m   1493\u001B[0m \u001B[38;5;124;03m    Args:\u001B[39;00m\n\u001B[0;32m   (...)\u001B[0m\n\u001B[1;32m   1497\u001B[0m \u001B[38;5;124;03m        Empty dictionary.\u001B[39;00m\n\u001B[1;32m   1498\u001B[0m \u001B[38;5;124;03m    \"\"\"\u001B[39;00m\n\u001B[0;32m-> 1499\u001B[0m     \u001B[38;5;28;01mreturn\u001B[39;00m \u001B[38;5;28mself\u001B[39m\u001B[38;5;241m.\u001B[39m_pipelines_api\u001B[38;5;241m.\u001B[39mpipeline_service_delete_pipeline(\n\u001B[1;32m   1500\u001B[0m         pipeline_id\u001B[38;5;241m=\u001B[39mpipeline_id)\n",
      "File \u001B[0;32m~/miniconda3/lib/python3.12/site-packages/kfp_server_api/api/pipeline_service_api.py:454\u001B[0m, in \u001B[0;36mPipelineServiceApi.pipeline_service_delete_pipeline\u001B[0;34m(self, pipeline_id, **kwargs)\u001B[0m\n\u001B[1;32m    429\u001B[0m \u001B[38;5;250m\u001B[39m\u001B[38;5;124;03m\"\"\"Deletes an empty pipeline by ID. Returns error if the pipeline has pipeline versions.  # noqa: E501\u001B[39;00m\n\u001B[1;32m    430\u001B[0m \n\u001B[1;32m    431\u001B[0m \u001B[38;5;124;03mThis method makes a synchronous HTTP request by default. To make an\u001B[39;00m\n\u001B[0;32m   (...)\u001B[0m\n\u001B[1;32m    451\u001B[0m \u001B[38;5;124;03m:rtype: object\u001B[39;00m\n\u001B[1;32m    452\u001B[0m \u001B[38;5;124;03m\"\"\"\u001B[39;00m\n\u001B[1;32m    453\u001B[0m kwargs[\u001B[38;5;124m'\u001B[39m\u001B[38;5;124m_return_http_data_only\u001B[39m\u001B[38;5;124m'\u001B[39m] \u001B[38;5;241m=\u001B[39m \u001B[38;5;28;01mTrue\u001B[39;00m\n\u001B[0;32m--> 454\u001B[0m \u001B[38;5;28;01mreturn\u001B[39;00m \u001B[38;5;28mself\u001B[39m\u001B[38;5;241m.\u001B[39mpipeline_service_delete_pipeline_with_http_info(pipeline_id, \u001B[38;5;241m*\u001B[39m\u001B[38;5;241m*\u001B[39mkwargs)\n",
      "File \u001B[0;32m~/miniconda3/lib/python3.12/site-packages/kfp_server_api/api/pipeline_service_api.py:534\u001B[0m, in \u001B[0;36mPipelineServiceApi.pipeline_service_delete_pipeline_with_http_info\u001B[0;34m(self, pipeline_id, **kwargs)\u001B[0m\n\u001B[1;32m    531\u001B[0m \u001B[38;5;66;03m# Authentication setting\u001B[39;00m\n\u001B[1;32m    532\u001B[0m auth_settings \u001B[38;5;241m=\u001B[39m [\u001B[38;5;124m'\u001B[39m\u001B[38;5;124mBearer\u001B[39m\u001B[38;5;124m'\u001B[39m]  \u001B[38;5;66;03m# noqa: E501\u001B[39;00m\n\u001B[0;32m--> 534\u001B[0m \u001B[38;5;28;01mreturn\u001B[39;00m \u001B[38;5;28mself\u001B[39m\u001B[38;5;241m.\u001B[39mapi_client\u001B[38;5;241m.\u001B[39mcall_api(\n\u001B[1;32m    535\u001B[0m     \u001B[38;5;124m'\u001B[39m\u001B[38;5;124m/apis/v2beta1/pipelines/\u001B[39m\u001B[38;5;132;01m{pipeline_id}\u001B[39;00m\u001B[38;5;124m'\u001B[39m, \u001B[38;5;124m'\u001B[39m\u001B[38;5;124mDELETE\u001B[39m\u001B[38;5;124m'\u001B[39m,\n\u001B[1;32m    536\u001B[0m     path_params,\n\u001B[1;32m    537\u001B[0m     query_params,\n\u001B[1;32m    538\u001B[0m     header_params,\n\u001B[1;32m    539\u001B[0m     body\u001B[38;5;241m=\u001B[39mbody_params,\n\u001B[1;32m    540\u001B[0m     post_params\u001B[38;5;241m=\u001B[39mform_params,\n\u001B[1;32m    541\u001B[0m     files\u001B[38;5;241m=\u001B[39mlocal_var_files,\n\u001B[1;32m    542\u001B[0m     response_type\u001B[38;5;241m=\u001B[39m\u001B[38;5;124m'\u001B[39m\u001B[38;5;124mobject\u001B[39m\u001B[38;5;124m'\u001B[39m,  \u001B[38;5;66;03m# noqa: E501\u001B[39;00m\n\u001B[1;32m    543\u001B[0m     auth_settings\u001B[38;5;241m=\u001B[39mauth_settings,\n\u001B[1;32m    544\u001B[0m     async_req\u001B[38;5;241m=\u001B[39mlocal_var_params\u001B[38;5;241m.\u001B[39mget(\u001B[38;5;124m'\u001B[39m\u001B[38;5;124masync_req\u001B[39m\u001B[38;5;124m'\u001B[39m),\n\u001B[1;32m    545\u001B[0m     _return_http_data_only\u001B[38;5;241m=\u001B[39mlocal_var_params\u001B[38;5;241m.\u001B[39mget(\u001B[38;5;124m'\u001B[39m\u001B[38;5;124m_return_http_data_only\u001B[39m\u001B[38;5;124m'\u001B[39m),  \u001B[38;5;66;03m# noqa: E501\u001B[39;00m\n\u001B[1;32m    546\u001B[0m     _preload_content\u001B[38;5;241m=\u001B[39mlocal_var_params\u001B[38;5;241m.\u001B[39mget(\u001B[38;5;124m'\u001B[39m\u001B[38;5;124m_preload_content\u001B[39m\u001B[38;5;124m'\u001B[39m, \u001B[38;5;28;01mTrue\u001B[39;00m),\n\u001B[1;32m    547\u001B[0m     _request_timeout\u001B[38;5;241m=\u001B[39mlocal_var_params\u001B[38;5;241m.\u001B[39mget(\u001B[38;5;124m'\u001B[39m\u001B[38;5;124m_request_timeout\u001B[39m\u001B[38;5;124m'\u001B[39m),\n\u001B[1;32m    548\u001B[0m     collection_formats\u001B[38;5;241m=\u001B[39mcollection_formats)\n",
      "File \u001B[0;32m~/miniconda3/lib/python3.12/site-packages/kfp_server_api/api_client.py:364\u001B[0m, in \u001B[0;36mApiClient.call_api\u001B[0;34m(self, resource_path, method, path_params, query_params, header_params, body, post_params, files, response_type, auth_settings, async_req, _return_http_data_only, collection_formats, _preload_content, _request_timeout, _host)\u001B[0m\n\u001B[1;32m    327\u001B[0m \u001B[38;5;250m\u001B[39m\u001B[38;5;124;03m\"\"\"Makes the HTTP request (synchronous) and returns deserialized data.\u001B[39;00m\n\u001B[1;32m    328\u001B[0m \n\u001B[1;32m    329\u001B[0m \u001B[38;5;124;03mTo make an async_req request, set the async_req parameter.\u001B[39;00m\n\u001B[0;32m   (...)\u001B[0m\n\u001B[1;32m    361\u001B[0m \u001B[38;5;124;03m    then the method will return the response directly.\u001B[39;00m\n\u001B[1;32m    362\u001B[0m \u001B[38;5;124;03m\"\"\"\u001B[39;00m\n\u001B[1;32m    363\u001B[0m \u001B[38;5;28;01mif\u001B[39;00m \u001B[38;5;129;01mnot\u001B[39;00m async_req:\n\u001B[0;32m--> 364\u001B[0m     \u001B[38;5;28;01mreturn\u001B[39;00m \u001B[38;5;28mself\u001B[39m\u001B[38;5;241m.\u001B[39m__call_api(resource_path, method,\n\u001B[1;32m    365\u001B[0m                            path_params, query_params, header_params,\n\u001B[1;32m    366\u001B[0m                            body, post_params, files,\n\u001B[1;32m    367\u001B[0m                            response_type, auth_settings,\n\u001B[1;32m    368\u001B[0m                            _return_http_data_only, collection_formats,\n\u001B[1;32m    369\u001B[0m                            _preload_content, _request_timeout, _host)\n\u001B[1;32m    371\u001B[0m \u001B[38;5;28;01mreturn\u001B[39;00m \u001B[38;5;28mself\u001B[39m\u001B[38;5;241m.\u001B[39mpool\u001B[38;5;241m.\u001B[39mapply_async(\u001B[38;5;28mself\u001B[39m\u001B[38;5;241m.\u001B[39m__call_api, (resource_path,\n\u001B[1;32m    372\u001B[0m                                                method, path_params,\n\u001B[1;32m    373\u001B[0m                                                query_params,\n\u001B[0;32m   (...)\u001B[0m\n\u001B[1;32m    381\u001B[0m                                                _request_timeout,\n\u001B[1;32m    382\u001B[0m                                                _host))\n",
      "File \u001B[0;32m~/miniconda3/lib/python3.12/site-packages/kfp_server_api/api_client.py:188\u001B[0m, in \u001B[0;36mApiClient.__call_api\u001B[0;34m(self, resource_path, method, path_params, query_params, header_params, body, post_params, files, response_type, auth_settings, _return_http_data_only, collection_formats, _preload_content, _request_timeout, _host)\u001B[0m\n\u001B[1;32m    186\u001B[0m \u001B[38;5;28;01mexcept\u001B[39;00m ApiException \u001B[38;5;28;01mas\u001B[39;00m e:\n\u001B[1;32m    187\u001B[0m     e\u001B[38;5;241m.\u001B[39mbody \u001B[38;5;241m=\u001B[39m e\u001B[38;5;241m.\u001B[39mbody\u001B[38;5;241m.\u001B[39mdecode(\u001B[38;5;124m'\u001B[39m\u001B[38;5;124mutf-8\u001B[39m\u001B[38;5;124m'\u001B[39m) \u001B[38;5;28;01mif\u001B[39;00m six\u001B[38;5;241m.\u001B[39mPY3 \u001B[38;5;28;01melse\u001B[39;00m e\u001B[38;5;241m.\u001B[39mbody\n\u001B[0;32m--> 188\u001B[0m     \u001B[38;5;28;01mraise\u001B[39;00m e\n\u001B[1;32m    190\u001B[0m content_type \u001B[38;5;241m=\u001B[39m response_data\u001B[38;5;241m.\u001B[39mgetheader(\u001B[38;5;124m'\u001B[39m\u001B[38;5;124mcontent-type\u001B[39m\u001B[38;5;124m'\u001B[39m)\n\u001B[1;32m    192\u001B[0m \u001B[38;5;28mself\u001B[39m\u001B[38;5;241m.\u001B[39mlast_response \u001B[38;5;241m=\u001B[39m response_data\n",
      "File \u001B[0;32m~/miniconda3/lib/python3.12/site-packages/kfp_server_api/api_client.py:181\u001B[0m, in \u001B[0;36mApiClient.__call_api\u001B[0;34m(self, resource_path, method, path_params, query_params, header_params, body, post_params, files, response_type, auth_settings, _return_http_data_only, collection_formats, _preload_content, _request_timeout, _host)\u001B[0m\n\u001B[1;32m    177\u001B[0m     url \u001B[38;5;241m=\u001B[39m _host \u001B[38;5;241m+\u001B[39m resource_path\n\u001B[1;32m    179\u001B[0m \u001B[38;5;28;01mtry\u001B[39;00m:\n\u001B[1;32m    180\u001B[0m     \u001B[38;5;66;03m# perform request and return response\u001B[39;00m\n\u001B[0;32m--> 181\u001B[0m     response_data \u001B[38;5;241m=\u001B[39m \u001B[38;5;28mself\u001B[39m\u001B[38;5;241m.\u001B[39mrequest(\n\u001B[1;32m    182\u001B[0m         method, url, query_params\u001B[38;5;241m=\u001B[39mquery_params, headers\u001B[38;5;241m=\u001B[39mheader_params,\n\u001B[1;32m    183\u001B[0m         post_params\u001B[38;5;241m=\u001B[39mpost_params, body\u001B[38;5;241m=\u001B[39mbody,\n\u001B[1;32m    184\u001B[0m         _preload_content\u001B[38;5;241m=\u001B[39m_preload_content,\n\u001B[1;32m    185\u001B[0m         _request_timeout\u001B[38;5;241m=\u001B[39m_request_timeout)\n\u001B[1;32m    186\u001B[0m \u001B[38;5;28;01mexcept\u001B[39;00m ApiException \u001B[38;5;28;01mas\u001B[39;00m e:\n\u001B[1;32m    187\u001B[0m     e\u001B[38;5;241m.\u001B[39mbody \u001B[38;5;241m=\u001B[39m e\u001B[38;5;241m.\u001B[39mbody\u001B[38;5;241m.\u001B[39mdecode(\u001B[38;5;124m'\u001B[39m\u001B[38;5;124mutf-8\u001B[39m\u001B[38;5;124m'\u001B[39m) \u001B[38;5;28;01mif\u001B[39;00m six\u001B[38;5;241m.\u001B[39mPY3 \u001B[38;5;28;01melse\u001B[39;00m e\u001B[38;5;241m.\u001B[39mbody\n",
      "File \u001B[0;32m~/miniconda3/lib/python3.12/site-packages/kfp_server_api/api_client.py:431\u001B[0m, in \u001B[0;36mApiClient.request\u001B[0;34m(self, method, url, query_params, headers, post_params, body, _preload_content, _request_timeout)\u001B[0m\n\u001B[1;32m    423\u001B[0m     \u001B[38;5;28;01mreturn\u001B[39;00m \u001B[38;5;28mself\u001B[39m\u001B[38;5;241m.\u001B[39mrest_client\u001B[38;5;241m.\u001B[39mPATCH(url,\n\u001B[1;32m    424\u001B[0m                                   query_params\u001B[38;5;241m=\u001B[39mquery_params,\n\u001B[1;32m    425\u001B[0m                                   headers\u001B[38;5;241m=\u001B[39mheaders,\n\u001B[0;32m   (...)\u001B[0m\n\u001B[1;32m    428\u001B[0m                                   _request_timeout\u001B[38;5;241m=\u001B[39m_request_timeout,\n\u001B[1;32m    429\u001B[0m                                   body\u001B[38;5;241m=\u001B[39mbody)\n\u001B[1;32m    430\u001B[0m \u001B[38;5;28;01melif\u001B[39;00m method \u001B[38;5;241m==\u001B[39m \u001B[38;5;124m\"\u001B[39m\u001B[38;5;124mDELETE\u001B[39m\u001B[38;5;124m\"\u001B[39m:\n\u001B[0;32m--> 431\u001B[0m     \u001B[38;5;28;01mreturn\u001B[39;00m \u001B[38;5;28mself\u001B[39m\u001B[38;5;241m.\u001B[39mrest_client\u001B[38;5;241m.\u001B[39mDELETE(url,\n\u001B[1;32m    432\u001B[0m                                    query_params\u001B[38;5;241m=\u001B[39mquery_params,\n\u001B[1;32m    433\u001B[0m                                    headers\u001B[38;5;241m=\u001B[39mheaders,\n\u001B[1;32m    434\u001B[0m                                    _preload_content\u001B[38;5;241m=\u001B[39m_preload_content,\n\u001B[1;32m    435\u001B[0m                                    _request_timeout\u001B[38;5;241m=\u001B[39m_request_timeout,\n\u001B[1;32m    436\u001B[0m                                    body\u001B[38;5;241m=\u001B[39mbody)\n\u001B[1;32m    437\u001B[0m \u001B[38;5;28;01melse\u001B[39;00m:\n\u001B[1;32m    438\u001B[0m     \u001B[38;5;28;01mraise\u001B[39;00m ApiValueError(\n\u001B[1;32m    439\u001B[0m         \u001B[38;5;124m\"\u001B[39m\u001B[38;5;124mhttp method must be `GET`, `HEAD`, `OPTIONS`,\u001B[39m\u001B[38;5;124m\"\u001B[39m\n\u001B[1;32m    440\u001B[0m         \u001B[38;5;124m\"\u001B[39m\u001B[38;5;124m `POST`, `PATCH`, `PUT` or `DELETE`.\u001B[39m\u001B[38;5;124m\"\u001B[39m\n\u001B[1;32m    441\u001B[0m     )\n",
      "File \u001B[0;32m~/miniconda3/lib/python3.12/site-packages/kfp_server_api/rest.py:256\u001B[0m, in \u001B[0;36mRESTClientObject.DELETE\u001B[0;34m(self, url, headers, query_params, body, _preload_content, _request_timeout)\u001B[0m\n\u001B[1;32m    254\u001B[0m \u001B[38;5;28;01mdef\u001B[39;00m \u001B[38;5;21mDELETE\u001B[39m(\u001B[38;5;28mself\u001B[39m, url, headers\u001B[38;5;241m=\u001B[39m\u001B[38;5;28;01mNone\u001B[39;00m, query_params\u001B[38;5;241m=\u001B[39m\u001B[38;5;28;01mNone\u001B[39;00m, body\u001B[38;5;241m=\u001B[39m\u001B[38;5;28;01mNone\u001B[39;00m,\n\u001B[1;32m    255\u001B[0m            _preload_content\u001B[38;5;241m=\u001B[39m\u001B[38;5;28;01mTrue\u001B[39;00m, _request_timeout\u001B[38;5;241m=\u001B[39m\u001B[38;5;28;01mNone\u001B[39;00m):\n\u001B[0;32m--> 256\u001B[0m     \u001B[38;5;28;01mreturn\u001B[39;00m \u001B[38;5;28mself\u001B[39m\u001B[38;5;241m.\u001B[39mrequest(\u001B[38;5;124m\"\u001B[39m\u001B[38;5;124mDELETE\u001B[39m\u001B[38;5;124m\"\u001B[39m, url,\n\u001B[1;32m    257\u001B[0m                         headers\u001B[38;5;241m=\u001B[39mheaders,\n\u001B[1;32m    258\u001B[0m                         query_params\u001B[38;5;241m=\u001B[39mquery_params,\n\u001B[1;32m    259\u001B[0m                         _preload_content\u001B[38;5;241m=\u001B[39m_preload_content,\n\u001B[1;32m    260\u001B[0m                         _request_timeout\u001B[38;5;241m=\u001B[39m_request_timeout,\n\u001B[1;32m    261\u001B[0m                         body\u001B[38;5;241m=\u001B[39mbody)\n",
      "File \u001B[0;32m~/miniconda3/lib/python3.12/site-packages/kfp_server_api/rest.py:224\u001B[0m, in \u001B[0;36mRESTClientObject.request\u001B[0;34m(self, method, url, query_params, headers, body, post_params, _preload_content, _request_timeout)\u001B[0m\n\u001B[1;32m    221\u001B[0m     logger\u001B[38;5;241m.\u001B[39mdebug(\u001B[38;5;124m\"\u001B[39m\u001B[38;5;124mresponse body: \u001B[39m\u001B[38;5;132;01m%s\u001B[39;00m\u001B[38;5;124m\"\u001B[39m, r\u001B[38;5;241m.\u001B[39mdata)\n\u001B[1;32m    223\u001B[0m \u001B[38;5;28;01mif\u001B[39;00m \u001B[38;5;129;01mnot\u001B[39;00m \u001B[38;5;241m200\u001B[39m \u001B[38;5;241m<\u001B[39m\u001B[38;5;241m=\u001B[39m r\u001B[38;5;241m.\u001B[39mstatus \u001B[38;5;241m<\u001B[39m\u001B[38;5;241m=\u001B[39m \u001B[38;5;241m299\u001B[39m:\n\u001B[0;32m--> 224\u001B[0m     \u001B[38;5;28;01mraise\u001B[39;00m ApiException(http_resp\u001B[38;5;241m=\u001B[39mr)\n\u001B[1;32m    226\u001B[0m \u001B[38;5;28;01mreturn\u001B[39;00m r\n",
      "\u001B[0;31mApiException\u001B[0m: (404)\nReason: Not Found\nHTTP response headers: HTTPHeaderDict({'Audit-Id': '11d78cd7-dbb2-4ccf-94eb-2a98d751218a', 'Cache-Control': 'no-cache, private', 'Content-Length': '623', 'Content-Type': 'application/json', 'Date': 'Fri, 01 Nov 2024 13:01:02 GMT'})\nHTTP response body: {\"error\":\"Failed to delete pipeline \\u003cyour_pipeline_id\\u003e. Check error stack: Failed to delete pipeline with id \\u003cyour_pipeline_id\\u003e as it was not found: ResourceNotFoundError: Pipeline \\u003cyour_pipeline_id\\u003e not found\",\"code\":5,\"message\":\"Failed to delete pipeline \\u003cyour_pipeline_id\\u003e. Check error stack: Failed to delete pipeline with id \\u003cyour_pipeline_id\\u003e as it was not found: ResourceNotFoundError: Pipeline \\u003cyour_pipeline_id\\u003e not found\",\"details\":[{\"@type\":\"type.googleapis.com/google.rpc.Status\",\"code\":5,\"message\":\"Pipeline \\u003cyour_pipeline_id\\u003e not found\"}]}\n"
     ]
    }
   ],
   "execution_count": 131,
   "source": [
    "# delete a specific pipline\n",
    "\n",
    "from kfp import client\n",
    "\n",
    "# Create a KFP client\n",
    "kfp_client = client.Client()\n",
    "\n",
    "# Replace this with your pipeline ID\n",
    "pipeline_id = '<your_pipeline_id>'\n",
    "\n",
    "# Delete the pipeline\n",
    "kfp_client.delete_pipeline(pipeline_id)\n",
    "\n",
    "print(f\"Pipeline with ID '{pipeline_id}' has been deleted.\")\n"
   ],
   "id": "de0e46f9321ddd8e"
  },
  {
   "metadata": {
    "ExecuteTime": {
     "end_time": "2024-12-13T12:52:21.300128Z",
     "start_time": "2024-12-13T12:52:21.203337Z"
    }
   },
   "cell_type": "code",
   "source": [
    "# Delete all pipelines\n",
    "\n",
    "from kfp import Client\n",
    "\n",
    "# Create a KFP client\n",
    "kfp_client = Client()\n",
    "\n",
    "# List all pipelines\n",
    "pipelines = kfp_client.list_pipelines()\n",
    "\n",
    "# Delete each pipeline and its versions\n",
    "for pipeline in pipelines.pipelines:\n",
    "    # Get all versions of the pipeline\n",
    "    versions = kfp_client.list_pipeline_versions(pipeline_id=pipeline.pipeline_id)\n",
    "    \n",
    "    # Delete each pipeline version\n",
    "    for version in versions.pipeline_versions:\n",
    "        kfp_client.delete_pipeline_version(pipeline.pipeline_id,version.pipeline_version_id)\n",
    "        print(f\"Deleted version: {version.display_name} (ID: {version.pipeline_version_id}) of pipeline: {pipeline.display_name}\")\n",
    "    \n",
    "    # Now delete the pipeline itself\n",
    "    kfp_client.delete_pipeline(pipeline.pipeline_id)\n",
    "    print(f\"Deleted pipeline: {pipeline.display_name} (ID: {pipeline.pipeline_id})\")\n",
    "\n"
   ],
   "id": "85d44b77b5640158",
   "outputs": [
    {
     "name": "stdout",
     "output_type": "stream",
     "text": [
      "Deleted version: chain_employee_data_pipeline_618e4a19-530b-405b-9ce6-a1f7788b9778 (ID: 533b6624-c12f-4729-b780-df41095acb4d) of pipeline: chain_employee_data_pipeline_618e4a19-530b-405b-9ce6-a1f7788b9778\n",
      "Deleted pipeline: chain_employee_data_pipeline_618e4a19-530b-405b-9ce6-a1f7788b9778 (ID: 5f76707a-16f1-433c-bd0a-5a70795bbc72)\n",
      "Deleted version: chain_sales_data_pipeline_764bd130-0123-4a60-9f4e-31ff2b14b47f (ID: d6e2baf8-bc88-4c41-9836-86a2624f5b4d) of pipeline: chain_sales_data_pipeline_764bd130-0123-4a60-9f4e-31ff2b14b47f\n",
      "Deleted pipeline: chain_sales_data_pipeline_764bd130-0123-4a60-9f4e-31ff2b14b47f (ID: 691eb105-cafc-4367-8043-59cf1608b737)\n"
     ]
    }
   ],
   "execution_count": 28
  },
  {
   "metadata": {
    "ExecuteTime": {
     "end_time": "2024-12-13T12:52:50.209304Z",
     "start_time": "2024-12-13T12:52:50.150776Z"
    }
   },
   "cell_type": "code",
   "source": [
    "# Delete All the experiments that their runs in state ['CANCELED', 'FAILED', 'SKIPPED','SUCCEEDED']\n",
    "\n",
    "import kfp\n",
    "\n",
    "# Connect to the Kubeflow Pipelines API\n",
    "client = kfp.Client()\n",
    "\n",
    "# List all experiments\n",
    "experiments = client.list_experiments()\n",
    "\n",
    "# Iterate over all experiments\n",
    "if experiments is not None or experiments.experiments is not None:\n",
    "    for experiment in experiments.experiments:\n",
    "        print(f\"Checking Experiment: {experiment.display_name} (ID: {experiment.experiment_id})\")\n",
    "        \n",
    "        # List all runs for the current experiment\n",
    "        runs = client.list_runs(experiment_id=experiment.experiment_id)\n",
    "        \n",
    "        all_runs_completed = True  # Flag to track if all runs are completed\n",
    "        \n",
    "        if runs and runs.runs:\n",
    "            for run in runs.runs:\n",
    "                print(f\"  Run Name: {run.display_name}, Run ID: {run.run_id}\")\n",
    "                \n",
    "                # # Check if the run is not completed\n",
    "                if run.state not in ['CANCELED', 'FAILED', 'SKIPPED','SUCCEEDED']:\n",
    "                    print(f\"  Run {run.display_name} is not completed. Skipping deletion of this experiment.\")\n",
    "                    all_runs_completed = False\n",
    "                    break\n",
    "        \n",
    "        # If all runs are completed, delete the experiment and its runs\n",
    "        if all_runs_completed:\n",
    "            print(f\"  All runs for experiment {experiment.display_name} are completed. Deleting runs and experiment.\")\n",
    "            \n",
    "            # Delete all runs for this experiment\n",
    "            if runs and runs.runs:\n",
    "                for run in runs.runs:\n",
    "                    print(f\"    Deleting run: {run.display_name}\")\n",
    "                    client.delete_run(run_id=run.run_id)\n",
    "                \n",
    "                # Delete the experiment\n",
    "                client.delete_experiment(experiment_id=experiment.experiment_id)\n",
    "                print(f\"    Experiment {experiment.display_name} deleted.\")\n",
    "        else:\n",
    "            print(f\"  Skipping deletion of experiment {experiment.display_name} as some runs are still in progress.\")\n",
    "    \n",
    "print(\"Completed cleanup of experiments.\")\n"
   ],
   "id": "191ba77562d38929",
   "outputs": [
    {
     "name": "stdout",
     "output_type": "stream",
     "text": [
      "Checking Experiment: Default (ID: b9a875a8-fb4f-4974-9be5-e1a547aaedf6)\n",
      "  All runs for experiment Default are completed. Deleting runs and experiment.\n",
      "Checking Experiment: pipeline_employee_data_experiment (ID: fa55e32b-423d-447b-b81f-fc8734bf21ee)\n",
      "  All runs for experiment pipeline_employee_data_experiment are completed. Deleting runs and experiment.\n",
      "Completed cleanup of experiments.\n"
     ]
    }
   ],
   "execution_count": 31
  },
  {
   "metadata": {
    "collapsed": true,
    "ExecuteTime": {
     "end_time": "2024-12-13T13:17:24.597102Z",
     "start_time": "2024-12-13T13:17:24.579490Z"
    }
   },
   "cell_type": "code",
   "outputs": [
    {
     "name": "stdout",
     "output_type": "stream",
     "text": [
      "ID: 7a28e47b-4d41-46df-afa6-4f1bbd06e591 ,Name: chain_shipments_anonymize_chain\n",
      "{'created_at': datetime.datetime(2024, 12, 13, 13, 16, 5, tzinfo=tzutc()),\n",
      " 'description': None,\n",
      " 'display_name': 'chain_shipments_anonymize_chain',\n",
      " 'error': None,\n",
      " 'namespace': None,\n",
      " 'pipeline_id': '7a28e47b-4d41-46df-afa6-4f1bbd06e591'}\n",
      "ID: d8f13d9c-753f-420b-ab27-c39a0be1dbe4 ,Name: chain_shipments_data_chain\n",
      "{'created_at': datetime.datetime(2024, 12, 13, 13, 16, 5, tzinfo=tzutc()),\n",
      " 'description': None,\n",
      " 'display_name': 'chain_shipments_data_chain',\n",
      " 'error': None,\n",
      " 'namespace': None,\n",
      " 'pipeline_id': 'd8f13d9c-753f-420b-ab27-c39a0be1dbe4'}\n"
     ]
    }
   ],
   "execution_count": 2,
   "source": [
    "# Get list of pipelines\n",
    "\n",
    "from kfp import client\n",
    "\n",
    "# Create a KFP client\n",
    "kfp_client = client.Client()\n",
    "\n",
    "# List all pipelines\n",
    "pipelines = kfp_client.list_pipelines()\n",
    "if pipelines is None or pipelines.pipelines is None:\n",
    "    print(\"No pipeline found\")\n",
    "else:   \n",
    "    for pipeline in pipelines.pipelines:\n",
    "        print(f\"ID: {pipeline.pipeline_id} ,Name: {pipeline.display_name}\")\n",
    "        print(pipeline)"
   ],
   "id": "initial_id"
  },
  {
   "metadata": {
    "ExecuteTime": {
     "end_time": "2024-12-13T13:20:26.580809Z",
     "start_time": "2024-12-13T13:20:26.556135Z"
    }
   },
   "cell_type": "code",
   "source": [
    "#pipeline versions\n",
    "\n",
    "from kfp import client\n",
    "\n",
    "# Create a KFP client\n",
    "kfp_client = client.Client()\n",
    "\n",
    "# Replace with your actual pipeline ID\n",
    "pipeline_id = 'd8f13d9c-753f-420b-ab27-c39a0be1dbe4'\n",
    "\n",
    "# List pipeline versions\n",
    "pipeline_versions = kfp_client.list_pipeline_versions(pipeline_id=pipeline_id)\n",
    "\n",
    "# Print version IDs and names\n",
    "for version in pipeline_versions.pipeline_versions:\n",
    "    print(f\"Version Name: {version.display_name}, Version Pipeline ID: {version.pipeline_version_id}\")\n"
   ],
   "id": "1bc41521f4d414bb",
   "outputs": [
    {
     "name": "stdout",
     "output_type": "stream",
     "text": [
      "Version Name: chain_shipments_data_chain, Version Pipeline ID: 1657e6c1-28e7-49e0-893a-73de33ccb749\n"
     ]
    }
   ],
   "execution_count": 5
  },
  {
   "metadata": {
    "ExecuteTime": {
     "end_time": "2024-12-13T13:22:34.479249Z",
     "start_time": "2024-12-13T13:22:34.396989Z"
    }
   },
   "cell_type": "code",
   "source": [
    "#create a running experiment from pipelines\n",
    "# from kfp import client\n",
    "# \n",
    "# # Create a KFP client\n",
    "# kfp_client = client.Client()\n",
    "# \n",
    "# # Define your pipeline function and experiment details\n",
    "# experiment_name = 'my-experiment'\n",
    "# run_name = 'my-pipeline-run'\n",
    "# \n",
    "# # Submit the pipeline run\n",
    "# run = kfp_client.create_run_from_pipeline_func(\n",
    "#     pipeline_func=my_pipeline_func,\n",
    "#     arguments={},\n",
    "#     experiment_name=experiment_name,\n",
    "#     run_name=run_name\n",
    "# )\n",
    "# \n",
    "# # Get the run ID\n",
    "# pipeline_run_id = run.run_id\n",
    "# print(f\"Pipeline Run ID: {pipeline_run_id}\")\n",
    "\n",
    "from kfp import client\n",
    "\n",
    "# Create a KFP client\n",
    "kfp_client = client.Client()\n",
    "#set up the Minio \n",
    "MINIO_ENDPOINT = 'http://minio.kubeflow:9000'  # Update with your MinIO service endpoint\n",
    "BUCKET_NAME = 'my-bucket'  # Replace with your desired bucket name\n",
    "ACCESS_KEY = 'minio'  # Replace with your access key\n",
    "SECRET_KEY = 'minio123'  # Replace with your secret key\n",
    "DEFAULT_REGION ='us-east-1'\n",
    "# Variables (replace with your values)\n",
    "pipeline_name = \"chain_shipments_data_chain\"  # Name of the pipeline after upload\n",
    "experiment_name = \"chain_shipments_data_chain_experiment\"  # The experiment you want to run the pipeline in\n",
    "run_name = \"chain_shipments_data_chain_run\"  # A name for the run you're about to create\n",
    "arguments = {\n",
    "            # 'storage_type': 'S3',\n",
    "            # 's3_bucket': BUCKET_NAME,\n",
    "            # 's3_endpoint': MINIO_ENDPOINT,\n",
    "            # 's3_access_key': ACCESS_KEY,\n",
    "            # 's3_secret_key': SECRET_KEY,\n",
    "            # 's3_secure': 'false'  # Set to 'true' if using HTTPS\n",
    "        }\n",
    "pipeline_root = f\"s3://my-bucket/kubeflow/pipelines\"\n",
    "version_id ='1657e6c1-28e7-49e0-893a-73de33ccb749'\n",
    "\n",
    "# Step 1: Upload the pipeline (already done in your case)\n",
    "# pipeline_file_name = 'path_to_your_pipeline.yaml'\n",
    "# kfp_client.upload_pipeline(pipeline_package_path=pipeline_file_name, pipeline_name=pipeline_name)\n",
    "\n",
    "# Step 2: Get the pipeline ID (this is the pipeline you previously uploaded)\n",
    "pipelines = kfp_client.list_pipelines()\n",
    "pipeline_id = None\n",
    "for pipeline in pipelines.pipelines:\n",
    "    if pipeline.display_name == pipeline_name:\n",
    "        pipeline_id = pipeline.pipeline_id\n",
    "        print(f\"Pipeline ID: {pipeline_id}\")\n",
    "        break\n",
    "\n",
    "if pipeline_id is None:\n",
    "    raise ValueError(f\"Pipeline '{pipeline_name}' not found. Please check the pipeline name.\")\n",
    "\n",
    "# Step 3: Get or create the experiment\n",
    "# Check if the experiment already exists\n",
    "experiments = kfp_client.list_experiments()\n",
    "experiment_id = None\n",
    "for experiment in experiments.experiments:\n",
    "    if experiment.display_name == experiment_name:\n",
    "        experiment_id = experiment.experiment_id\n",
    "        print(f\"Experiment ID: {experiment_id}\")\n",
    "        break\n",
    "\n",
    "# If the experiment doesn't exist, create a new one\n",
    "if experiment_id is None:\n",
    "    experiment = kfp_client.create_experiment(name=experiment_name)\n",
    "    experiment_id = experiment.experiment_id\n",
    "    print(f\"New Experiment ID: {experiment_id}\")\n",
    "    \n",
    "#    \n",
    "\n",
    "# Step 4: Run the pipeline using the pipeline ID and experiment\n",
    "run = kfp_client.run_pipeline(\n",
    "    experiment_id=experiment_id,\n",
    "    job_name=run_name,\n",
    "    pipeline_id=pipeline_id,\n",
    "    params=arguments,\n",
    "    version_id=version_id #,\n",
    "   # pipeline_root=pipeline_root\n",
    ")\n",
    "\n",
    "print(f\"Run submitted. Run ID: {run.run_id}\")\n",
    "\n"
   ],
   "id": "eb448cfd98b39199",
   "outputs": [
    {
     "name": "stdout",
     "output_type": "stream",
     "text": [
      "Pipeline ID: d8f13d9c-753f-420b-ab27-c39a0be1dbe4\n"
     ]
    },
    {
     "data": {
      "text/plain": [
       "<IPython.core.display.HTML object>"
      ],
      "text/html": [
       "<a href=\"/pipeline/#/experiments/details/1b69bf2a-f7f9-4644-9fed-027b1f31ea5c\" target=\"_blank\" >Experiment details</a>."
      ]
     },
     "metadata": {},
     "output_type": "display_data"
    },
    {
     "name": "stdout",
     "output_type": "stream",
     "text": [
      "New Experiment ID: 1b69bf2a-f7f9-4644-9fed-027b1f31ea5c\n"
     ]
    },
    {
     "data": {
      "text/plain": [
       "<IPython.core.display.HTML object>"
      ],
      "text/html": [
       "<a href=\"/pipeline/#/runs/details/71ee997c-08f4-4731-a935-b14bcef8a9d7\" target=\"_blank\" >Run details</a>."
      ]
     },
     "metadata": {},
     "output_type": "display_data"
    },
    {
     "name": "stdout",
     "output_type": "stream",
     "text": [
      "Run submitted. Run ID: 71ee997c-08f4-4731-a935-b14bcef8a9d7\n"
     ]
    }
   ],
   "execution_count": 7
  }
 ],
 "metadata": {
  "kernelspec": {
   "display_name": "Python 3",
   "language": "python",
   "name": "python3"
  },
  "language_info": {
   "codemirror_mode": {
    "name": "ipython",
    "version": 2
   },
   "file_extension": ".py",
   "mimetype": "text/x-python",
   "name": "python",
   "nbconvert_exporter": "python",
   "pygments_lexer": "ipython2",
   "version": "2.7.6"
  }
 },
 "nbformat": 4,
 "nbformat_minor": 5
}
