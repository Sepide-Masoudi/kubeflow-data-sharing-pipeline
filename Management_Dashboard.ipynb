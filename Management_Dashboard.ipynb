{
 "cells": [
  {
   "metadata": {
    "collapsed": true,
    "ExecuteTime": {
     "end_time": "2024-12-20T19:07:47.398967Z",
     "start_time": "2024-12-20T19:07:47.374671Z"
    }
   },
   "cell_type": "code",
   "source": [
    "# Get list of pipelines\n",
    "\n",
    "from kfp import client\n",
    "def get_pipeline_list():\n",
    "    # Create a KFP client\n",
    "    kfp_client = client.Client()\n",
    "    \n",
    "    # List all pipelines\n",
    "    pipelines = kfp_client.list_pipelines()\n",
    "    if pipelines is None or pipelines.pipelines is None:\n",
    "        print(\"No pipeline found\")\n",
    "    else:   \n",
    "        for pipeline in pipelines.pipelines:\n",
    "            print(f\"ID: {pipeline.pipeline_id} ,Name: {pipeline.display_name}\")\n",
    "            #print(pipeline)\n",
    "\n",
    "###### Call the function to execute it           \n",
    "get_pipeline_list()           "
   ],
   "id": "initial_id",
   "outputs": [
    {
     "name": "stdout",
     "output_type": "stream",
     "text": [
      "ID: 7d7f71f7-835b-4c55-bac9-575e14a26b38 ,Name: chain_shipments_anonymize_chain\n",
      "ID: af452b5a-8088-4323-abd8-7946332400ca ,Name: chain_shipments_data_chain\n"
     ]
    }
   ],
   "execution_count": 55
  },
  {
   "metadata": {
    "ExecuteTime": {
     "end_time": "2024-12-20T19:08:40.206089Z",
     "start_time": "2024-12-20T19:08:40.176795Z"
    }
   },
   "cell_type": "code",
   "source": [
    "# This function will return the list of all runs.\n",
    "\n",
    "from kfp import client\n",
    "\n",
    "def get_pipeline_run_info():\n",
    "    \n",
    "    kfp_client = client.Client()\n",
    "\n",
    "    runs = kfp_client.list_runs(page_size=5)\n",
    "    if runs is None or runs.runs is None:\n",
    "        print(\"No runs found\")\n",
    "    else:\n",
    "        for run in runs.runs:\n",
    "            print(f\"Pipeline Run ID: {run.run_id},  Name: {run.display_name}, Status: {run.state}\")\n",
    "\n",
    "###### Call the function to execute it\n",
    "get_pipeline_run_info()\n"
   ],
   "id": "5bbd6d9c30dfaf0a",
   "outputs": [
    {
     "name": "stdout",
     "output_type": "stream",
     "text": [
      "Pipeline Run ID: 7d486483-9bb0-4131-9fe0-6a9c45faa441,  Name: chain_shipments_anonymize_chain_run, Status: RUNNING\n"
     ]
    }
   ],
   "execution_count": 58
  },
  {
   "metadata": {
    "ExecuteTime": {
     "end_time": "2024-12-20T19:07:56.754551Z",
     "start_time": "2024-12-20T19:07:56.685810Z"
    }
   },
   "cell_type": "code",
   "source": [
    "#fetch the version info of existing pipelines\n",
    "\n",
    "\n",
    "from kfp import client\n",
    "\n",
    "class PipelineVersionInfo:\n",
    "    def __init__(self, pipeline_name, version_name, version_pipeline_id):\n",
    "        self.pipeline_name = pipeline_name\n",
    "        self.version_name = version_name\n",
    "        self.version_pipeline_id = version_pipeline_id\n",
    "\n",
    "    def __repr__(self):\n",
    "        return f\"Pipeline Name: {self.pipeline_name}, Version Name: {self.version_name}, Version Pipeline ID: {self.version_pipeline_id}\"\n",
    "\n",
    "def fetch_pipelines_version_info():\n",
    "    kfp_client = client.Client()\n",
    "    \n",
    "    pipelines = kfp_client.list_pipelines()\n",
    "    result = []  # List to hold the PipelineVersionInfo objects\n",
    "    \n",
    "    if pipelines is None or pipelines.pipelines is None:\n",
    "        print(\"No pipelines found\")\n",
    "        return []\n",
    "    \n",
    "    else:\n",
    "        for pipeline in pipelines.pipelines:\n",
    "            pipeline_versions = kfp_client.list_pipeline_versions(pipeline_id=pipeline.pipeline_id)\n",
    "            for version in pipeline_versions.pipeline_versions:\n",
    "                # Create a PipelineVersionInfo object and add it to the result list\n",
    "                pipeline_info = PipelineVersionInfo(\n",
    "                    pipeline_name=pipeline.display_name,\n",
    "                    version_name=version.display_name,\n",
    "                    version_pipeline_id=version.pipeline_version_id\n",
    "                )\n",
    "                result.append(pipeline_info)\n",
    "    \n",
    "    return result\n",
    "\n",
    "##### Call the function to fetch versions info of the pipelines.\n",
    "pipeline_info = fetch_pipelines_version_info()\n",
    "print(pipeline_info)\n"
   ],
   "id": "1bc41521f4d414bb",
   "outputs": [
    {
     "name": "stdout",
     "output_type": "stream",
     "text": [
      "[Pipeline Name: chain_shipments_anonymize_chain, Version Name: chain_shipments_anonymize_chain, Version Pipeline ID: f604a81a-5db1-4ef6-b6f3-f659577b79ff, Pipeline Name: chain_shipments_data_chain, Version Name: chain_shipments_data_chain, Version Pipeline ID: 9a010ff9-2f3b-4933-830d-deba46de554f]\n"
     ]
    }
   ],
   "execution_count": 56
  },
  {
   "metadata": {
    "ExecuteTime": {
     "end_time": "2024-12-20T19:08:29.726515Z",
     "start_time": "2024-12-20T19:08:29.612705Z"
    }
   },
   "cell_type": "code",
   "source": [
    "#create a running experiment from a specific pipeline\n",
    "\n",
    "def start_pipeline_experiment(pipeline_name:str,experiment_name:str,run_name:str,version_id:str):\n",
    "    from kfp import client\n",
    "    \n",
    "    kfp_client = client.Client()\n",
    "    #set up the Minio \n",
    "    MINIO_ENDPOINT = 'http://minio.kubeflow:9000'  # Update with your MinIO service endpoint\n",
    "    BUCKET_NAME = 'my-bucket'  # Replace with your desired bucket name\n",
    "    ACCESS_KEY = 'minio'  # Replace with your access key\n",
    "    SECRET_KEY = 'minio123'  # Replace with your secret key\n",
    "    DEFAULT_REGION ='us-east-1'\n",
    "    arguments = {}\n",
    "    \n",
    "    \n",
    "    pipelines = kfp_client.list_pipelines()\n",
    "    pipeline_id = None\n",
    "    for pipeline in pipelines.pipelines:\n",
    "        if pipeline.display_name == pipeline_name:\n",
    "            pipeline_id = pipeline.pipeline_id\n",
    "            print(f\"Pipeline ID: {pipeline_id}\")\n",
    "            break\n",
    "    \n",
    "    if pipeline_id is None:\n",
    "        raise ValueError(f\"Pipeline '{pipeline_name}' not found. Please check the pipeline name.\")\n",
    "    \n",
    "    # Check if the experiment already exists\n",
    "    experiments = kfp_client.list_experiments()\n",
    "    experiment_id = None\n",
    "    for experiment in experiments.experiments:\n",
    "        if experiment.display_name == experiment_name:\n",
    "            experiment_id = experiment.experiment_id\n",
    "            print(f\"Experiment ID: {experiment_id}\")\n",
    "            break\n",
    "    \n",
    "    # If the experiment doesn't exist, create a new one\n",
    "    if experiment_id is None:\n",
    "        experiment = kfp_client.create_experiment(name=experiment_name)\n",
    "        experiment_id = experiment.experiment_id\n",
    "        print(f\"New Experiment ID: {experiment_id}\")\n",
    "        \n",
    "    try:\n",
    "        #Run the pipeline using the pipeline ID and experiment\n",
    "        run = kfp_client.run_pipeline(\n",
    "            experiment_id=experiment_id,\n",
    "            job_name=run_name,\n",
    "            pipeline_id=pipeline_id,\n",
    "            params=arguments,\n",
    "            version_id=version_id\n",
    "        )\n",
    "        \n",
    "        print(f\"Run submitted. Run ID: {run.run_id}\")\n",
    "        return {\n",
    "            \"pipeline_id\": pipeline_id,\n",
    "            \"experiment_id\": experiment_id,\n",
    "            \"run_id\": run.run_id\n",
    "        }\n",
    "    except Exception as e:\n",
    "        print(f\"Error occurred for Pipeline '{pipeline_name}', Version ID '{version_id}': {e}\")\n",
    "        return None\n",
    "    \n",
    "    \n",
    "##### Call the function to start an experiments for the pipeline.\n",
    "start_pipeline_experiment(\"chain_shipments_anonymize_chain\",\"chain_shipments_anonymize_chain_experiment\",\"chain_shipments_anonymize_chain_run\",\"f604a81a-5db1-4ef6-b6f3-f659577b79ff\")\n"
   ],
   "id": "eb448cfd98b39199",
   "outputs": [
    {
     "name": "stdout",
     "output_type": "stream",
     "text": [
      "Pipeline ID: 7d7f71f7-835b-4c55-bac9-575e14a26b38\n"
     ]
    },
    {
     "data": {
      "text/plain": [
       "<IPython.core.display.HTML object>"
      ],
      "text/html": [
       "<a href=\"/pipeline/#/experiments/details/2b627864-5db9-4311-8dd2-ed17aceff001\" target=\"_blank\" >Experiment details</a>."
      ]
     },
     "metadata": {},
     "output_type": "display_data"
    },
    {
     "name": "stdout",
     "output_type": "stream",
     "text": [
      "New Experiment ID: 2b627864-5db9-4311-8dd2-ed17aceff001\n"
     ]
    },
    {
     "data": {
      "text/plain": [
       "<IPython.core.display.HTML object>"
      ],
      "text/html": [
       "<a href=\"/pipeline/#/runs/details/7d486483-9bb0-4131-9fe0-6a9c45faa441\" target=\"_blank\" >Run details</a>."
      ]
     },
     "metadata": {},
     "output_type": "display_data"
    },
    {
     "name": "stdout",
     "output_type": "stream",
     "text": [
      "Run submitted. Run ID: 7d486483-9bb0-4131-9fe0-6a9c45faa441\n"
     ]
    },
    {
     "data": {
      "text/plain": [
       "{'pipeline_id': '7d7f71f7-835b-4c55-bac9-575e14a26b38',\n",
       " 'experiment_id': '2b627864-5db9-4311-8dd2-ed17aceff001',\n",
       " 'run_id': '7d486483-9bb0-4131-9fe0-6a9c45faa441'}"
      ]
     },
     "execution_count": 57,
     "metadata": {},
     "output_type": "execute_result"
    }
   ],
   "execution_count": 57
  },
  {
   "metadata": {
    "ExecuteTime": {
     "end_time": "2024-12-20T19:04:51.686567Z",
     "start_time": "2024-12-20T19:04:51.579173Z"
    }
   },
   "cell_type": "code",
   "source": [
    "# Delete all pipelines and its versions\n",
    "\n",
    "from kfp import Client\n",
    "\n",
    "def delete_pipelines():\n",
    "    kfp_client = Client()\n",
    "    \n",
    "    pipelines = kfp_client.list_pipelines()\n",
    "    \n",
    "    for pipeline in pipelines.pipelines:\n",
    "        # Get all versions of the pipeline and delete versions.\n",
    "        versions = kfp_client.list_pipeline_versions(pipeline_id=pipeline.pipeline_id)\n",
    "        \n",
    "        for version in versions.pipeline_versions:\n",
    "            kfp_client.delete_pipeline_version(pipeline.pipeline_id,version.pipeline_version_id)\n",
    "            print(f\"Deleted version: {version.display_name} (ID: {version.pipeline_version_id}) of pipeline: {pipeline.display_name}\")\n",
    "        \n",
    "        # Now delete the pipeline itself\n",
    "        kfp_client.delete_pipeline(pipeline.pipeline_id)\n",
    "        print(f\"Deleted pipeline: {pipeline.display_name} (ID: {pipeline.pipeline_id})\")\n",
    "        \n",
    "##### Call the function to delete all the pipelines and their versions.\n",
    "delete_pipelines()\n"
   ],
   "id": "85d44b77b5640158",
   "outputs": [
    {
     "name": "stdout",
     "output_type": "stream",
     "text": [
      "Deleted version: chain_shipments_data_chain (ID: 22a3450e-4b56-49a6-ac63-b38043badcee) of pipeline: chain_shipments_data_chain\n",
      "Deleted pipeline: chain_shipments_data_chain (ID: 93a45c9c-0327-40f5-8ccb-149f8541271a)\n",
      "Deleted version: chain_shipments_anonymize_chain (ID: 023671e7-4819-4cfb-ac92-ea013bb95152) of pipeline: chain_shipments_anonymize_chain\n",
      "Deleted pipeline: chain_shipments_anonymize_chain (ID: 9b73c031-fb0e-4a04-b155-0610770672f8)\n"
     ]
    }
   ],
   "execution_count": 53
  },
  {
   "metadata": {
    "ExecuteTime": {
     "end_time": "2024-12-20T14:42:28.604842Z",
     "start_time": "2024-12-20T14:42:28.423933Z"
    }
   },
   "cell_type": "code",
   "source": [
    "# Delete All the experiments that their runs which are in the state ['CANCELED', 'FAILED', 'SKIPPED','SUCCEEDED']\n",
    "\n",
    "import kfp\n",
    "\n",
    "def delete_completed_experiments():\n",
    "    client = kfp.Client()\n",
    "    \n",
    "    # List all experiments\n",
    "    experiments = client.list_experiments()\n",
    "    \n",
    "    # Iterate over all experiments\n",
    "    if experiments is not None or experiments.experiments is not None:\n",
    "        for experiment in experiments.experiments:\n",
    "            print(f\"Checking Experiment: {experiment.display_name} (ID: {experiment.experiment_id})\")\n",
    "            \n",
    "            # List all runs for the current experiment\n",
    "            runs = client.list_runs(experiment_id=experiment.experiment_id)\n",
    "            \n",
    "            all_runs_completed = True  # Flag to track if all runs are completed\n",
    "            \n",
    "            if runs and runs.runs:\n",
    "                for run in runs.runs:\n",
    "                    print(f\"  Run Name: {run.display_name}, Run ID: {run.run_id}\")\n",
    "                    \n",
    "                    # Check if the run status\n",
    "                    if run.state not in ['CANCELED', 'FAILED', 'SKIPPED','SUCCEEDED','ERROR']:\n",
    "                        print(f\"  Run {run.display_name} is not completed. Skipping deletion of this experiment.\")\n",
    "                        all_runs_completed = False\n",
    "                        break\n",
    "            \n",
    "            # If all runs are completed, delete the experiment and its runs\n",
    "            if all_runs_completed:\n",
    "                print(f\"  All runs for experiment {experiment.display_name} are completed. Deleting runs and experiment.\")\n",
    "                \n",
    "                # Delete all runs for this experiment\n",
    "                if runs and runs.runs:\n",
    "                    for run in runs.runs:\n",
    "                        print(f\"    Deleting run: {run.display_name}\")\n",
    "                        client.delete_run(run_id=run.run_id)\n",
    "                    \n",
    "                    # Delete the experiment\n",
    "                    client.delete_experiment(experiment_id=experiment.experiment_id)\n",
    "                    print(f\"    Experiment {experiment.display_name} deleted.\")\n",
    "            else:\n",
    "                print(f\"  Skipping deletion of experiment {experiment.display_name} as some runs are still in progress.\")\n",
    "        \n",
    "    print(\"Completed cleanup of experiments.\")\n",
    "\n",
    "##### Call the function to delete all the pipelines and their versions.    \n",
    "delete_completed_experiments()   \n"
   ],
   "id": "191ba77562d38929",
   "outputs": [
    {
     "name": "stdout",
     "output_type": "stream",
     "text": [
      "Checking Experiment: Default (ID: b9a875a8-fb4f-4974-9be5-e1a547aaedf6)\n",
      "  All runs for experiment Default are completed. Deleting runs and experiment.\n",
      "Checking Experiment: pipeline_employee_data_experiment (ID: fa55e32b-423d-447b-b81f-fc8734bf21ee)\n",
      "  All runs for experiment pipeline_employee_data_experiment are completed. Deleting runs and experiment.\n",
      "Checking Experiment: chain_shipments_data_chain_experiment (ID: 4a8eacc5-bf82-4cb1-a123-8a3106e3c0c5)\n",
      "  Run Name: chain_shipments_data_chain_run, Run ID: e57ece74-d999-4a4c-b282-193aab0615b2\n",
      "  All runs for experiment chain_shipments_data_chain_experiment are completed. Deleting runs and experiment.\n",
      "    Deleting run: chain_shipments_data_chain_run\n",
      "    Experiment chain_shipments_data_chain_experiment deleted.\n",
      "Checking Experiment: chain_shipments_anonymize_chain_experiment (ID: 7678d068-b4ab-493f-84c3-33275273ef5b)\n",
      "  Run Name: chain_shipments_anonymize_chain_run, Run ID: 610bc470-1a97-4255-834b-ee661a9d60e6\n",
      "  All runs for experiment chain_shipments_anonymize_chain_experiment are completed. Deleting runs and experiment.\n",
      "    Deleting run: chain_shipments_anonymize_chain_run\n",
      "    Experiment chain_shipments_anonymize_chain_experiment deleted.\n",
      "Completed cleanup of experiments.\n"
     ]
    }
   ],
   "execution_count": 48
  },
  {
   "metadata": {
    "ExecuteTime": {
     "end_time": "2024-12-20T14:39:05.515621Z",
     "start_time": "2024-12-20T14:39:05.219590Z"
    }
   },
   "cell_type": "code",
   "source": [
    "# main function for running a round of  experiments\n",
    "\n",
    "def main ():\n",
    "    \n",
    "   # Deleting the experiments from the last round\n",
    "   delete_completed_experiments()\n",
    "   \n",
    "   # Generating the new round of experiments for available pipelines \n",
    "   pipeline_version_info= fetch_pipelines_version_info() \n",
    "   if len(pipeline_version_info) == 0:\n",
    "       print(\"No pipelines found\")\n",
    "   else:\n",
    "      print(f\"Pipeline version {len(pipeline_version_info)}\")\n",
    "      for pipeline_version in pipeline_version_info:\n",
    "          print(pipeline_version)\n",
    "          experiment_name = pipeline_version.pipeline_name + \"_experiment\"\n",
    "          run_name = pipeline_version.pipeline_name + \"_run\"\n",
    "          result = start_pipeline_experiment(pipeline_version.pipeline_name, experiment_name, run_name, pipeline_version.version_pipeline_id)\n",
    "          if result:\n",
    "            print(f\"Pipeline ID: {result['pipeline_id']} , Experiment ID: {result['experiment_id']} , Run ID: {result['run_id']}\")\n",
    "          else:\n",
    "            print(f\"Failed to start pipeline for: {pipeline_version.pipeline_name}\")\n",
    "                 \n",
    "\n",
    "main()"
   ],
   "id": "fe26054fa5a0e3ce",
   "outputs": [
    {
     "name": "stdout",
     "output_type": "stream",
     "text": [
      "Checking Experiment: Default (ID: b9a875a8-fb4f-4974-9be5-e1a547aaedf6)\n",
      "  All runs for experiment Default are completed. Deleting runs and experiment.\n",
      "Checking Experiment: pipeline_employee_data_experiment (ID: fa55e32b-423d-447b-b81f-fc8734bf21ee)\n",
      "  All runs for experiment pipeline_employee_data_experiment are completed. Deleting runs and experiment.\n",
      "Completed cleanup of experiments.\n",
      "Pipeline version 2\n",
      "Pipeline Name: chain_shipments_anonymize_chain, Version Name: chain_shipments_anonymize_chain, Version Pipeline ID: e9a1e05f-b8fb-4994-be30-7c0939722978\n",
      "Pipeline ID: 3a434c63-ca12-48eb-a12a-d7e2e22613af\n"
     ]
    },
    {
     "data": {
      "text/plain": [
       "<IPython.core.display.HTML object>"
      ],
      "text/html": [
       "<a href=\"/pipeline/#/experiments/details/7678d068-b4ab-493f-84c3-33275273ef5b\" target=\"_blank\" >Experiment details</a>."
      ]
     },
     "metadata": {},
     "output_type": "display_data"
    },
    {
     "name": "stdout",
     "output_type": "stream",
     "text": [
      "New Experiment ID: 7678d068-b4ab-493f-84c3-33275273ef5b\n"
     ]
    },
    {
     "data": {
      "text/plain": [
       "<IPython.core.display.HTML object>"
      ],
      "text/html": [
       "<a href=\"/pipeline/#/runs/details/610bc470-1a97-4255-834b-ee661a9d60e6\" target=\"_blank\" >Run details</a>."
      ]
     },
     "metadata": {},
     "output_type": "display_data"
    },
    {
     "name": "stdout",
     "output_type": "stream",
     "text": [
      "Run submitted. Run ID: 610bc470-1a97-4255-834b-ee661a9d60e6\n",
      "Pipeline ID: 3a434c63-ca12-48eb-a12a-d7e2e22613af , Experiment ID: 7678d068-b4ab-493f-84c3-33275273ef5b , Run ID: 610bc470-1a97-4255-834b-ee661a9d60e6\n",
      "Pipeline Name: chain_shipments_data_chain, Version Name: chain_shipments_data_chain, Version Pipeline ID: 512c6d9c-4812-476f-a9e6-564d35d3c6d3\n",
      "Pipeline ID: 4d45c25d-0039-4b23-9d6d-5976c94c5532\n"
     ]
    },
    {
     "data": {
      "text/plain": [
       "<IPython.core.display.HTML object>"
      ],
      "text/html": [
       "<a href=\"/pipeline/#/experiments/details/4a8eacc5-bf82-4cb1-a123-8a3106e3c0c5\" target=\"_blank\" >Experiment details</a>."
      ]
     },
     "metadata": {},
     "output_type": "display_data"
    },
    {
     "name": "stdout",
     "output_type": "stream",
     "text": [
      "New Experiment ID: 4a8eacc5-bf82-4cb1-a123-8a3106e3c0c5\n"
     ]
    },
    {
     "data": {
      "text/plain": [
       "<IPython.core.display.HTML object>"
      ],
      "text/html": [
       "<a href=\"/pipeline/#/runs/details/e57ece74-d999-4a4c-b282-193aab0615b2\" target=\"_blank\" >Run details</a>."
      ]
     },
     "metadata": {},
     "output_type": "display_data"
    },
    {
     "name": "stdout",
     "output_type": "stream",
     "text": [
      "Run submitted. Run ID: e57ece74-d999-4a4c-b282-193aab0615b2\n",
      "Pipeline ID: 4d45c25d-0039-4b23-9d6d-5976c94c5532 , Experiment ID: 4a8eacc5-bf82-4cb1-a123-8a3106e3c0c5 , Run ID: e57ece74-d999-4a4c-b282-193aab0615b2\n"
     ]
    }
   ],
   "execution_count": 44
  }
 ],
 "metadata": {
  "kernelspec": {
   "display_name": "Python 3",
   "language": "python",
   "name": "python3"
  },
  "language_info": {
   "codemirror_mode": {
    "name": "ipython",
    "version": 2
   },
   "file_extension": ".py",
   "mimetype": "text/x-python",
   "name": "python",
   "nbconvert_exporter": "python",
   "pygments_lexer": "ipython2",
   "version": "2.7.6"
  }
 },
 "nbformat": 4,
 "nbformat_minor": 5
}
