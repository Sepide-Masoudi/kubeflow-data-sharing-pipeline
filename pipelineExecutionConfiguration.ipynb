{
 "cells": [
  {
   "cell_type": "code",
   "execution_count": null,
   "id": "initial_id",
   "metadata": {
    "collapsed": true
   },
   "outputs": [],
   "source": [
    "import kfp\n",
    "from kfp import dsl\n",
    "\n",
    "def pipeline_b_trigger():\n",
    "    # This function will trigger Pipeline B\n",
    "    client = kfp.Client()\n",
    "    \n",
    "    # Specify the pipeline name or ID for Pipeline B\n",
    "    pipeline_id = client.get_pipeline_id('pipeline_b_name')\n",
    "    \n",
    "    # Optional: specify pipeline parameters if needed\n",
    "    pipeline_params = {\n",
    "        'param1': 'value1',\n",
    "        'param2': 'value2'\n",
    "    }\n",
    "    \n",
    "    # Trigger Pipeline B\n",
    "    client.run_pipeline(experiment_id='<experiment_id_for_pipeline_b>', \n",
    "                        job_name='pipeline_b_run', \n",
    "                        pipeline_id=pipeline_id, \n",
    "                        params=pipeline_params)\n",
    "    \n",
    "@dsl.pipeline(name='Pipeline A')\n",
    "def pipeline_a():\n",
    "    # Pipeline A steps go here\n",
    "    \n",
    "    # Call to Pipeline B trigger function\n",
    "    trigger_pipeline_b_op = dsl.ContainerOp(\n",
    "        name=\"Trigger Pipeline B\",\n",
    "        command=[\"python3\", \"-c\"],\n",
    "        arguments=[\"pipeline_b_trigger()\"],\n",
    "        image=\"python:3.7\",  # This image will run the trigger code\n",
    "        file_outputs={}\n",
    "    )\n",
    "    \n",
    "if __name__ == '__main__':\n",
    "    kfp.compiler.Compiler().compile(pipeline_a, 'pipeline_a.zip')\n"
   ]
  }
 ],
 "metadata": {
  "kernelspec": {
   "display_name": "Python 3",
   "language": "python",
   "name": "python3"
  },
  "language_info": {
   "codemirror_mode": {
    "name": "ipython",
    "version": 2
   },
   "file_extension": ".py",
   "mimetype": "text/x-python",
   "name": "python",
   "nbconvert_exporter": "python",
   "pygments_lexer": "ipython2",
   "version": "2.7.6"
  }
 },
 "nbformat": 4,
 "nbformat_minor": 5
}
